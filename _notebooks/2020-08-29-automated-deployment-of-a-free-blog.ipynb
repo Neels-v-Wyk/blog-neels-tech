{
 "metadata": {
  "language_info": {
   "codemirror_mode": {
    "name": "ipython",
    "version": 3
   },
   "file_extension": ".py",
   "mimetype": "text/x-python",
   "name": "python",
   "nbconvert_exporter": "python",
   "pygments_lexer": "ipython3",
   "version": "3.8.5-final"
  },
  "orig_nbformat": 2,
  "kernelspec": {
   "name": "python3",
   "display_name": "Python 3"
  }
 },
 "nbformat": 4,
 "nbformat_minor": 2,
 "cells": [
  {
   "cell_type": "markdown",
   "metadata": {},
   "source": [
    "# Automated Deployment of a Free Blog\n",
    "> An article detailing how my previous blog was automatically deployed to Firebase using GitHub Actions.\n",
    "\n",
    "- toc: true \n",
    "- badges: true\n",
    "- comments: true\n",
    "- categories: [tech]\n",
    "- image: images/chart-preview.png"
   ]
  },
  {
   "cell_type": "markdown",
   "metadata": {},
   "source": [
    "## Why do this?\n",
    "My reasons for doing this are multifold, but what it boils down to are these two simple facts:\n",
    "- I am lazy\n",
    "- I don't like spending money\n",
    "\n",
    "I've never had a blog so I thought I'd try my hand at one. After getting some advice from a more experienced blogger, [Charl](https://cpbotha.net/), I decided to have a Hugo blog (because it's easy) hosted on Firebase (because it's free). After going through the motions I realized every time I wanted to publish a new post I'd have to go through like three or four easy steps. The thing is, that's something like 25 seconds of my life I won't get back every time I make a post. So spent a few hours automating and documenting it, for maximum efficiency.\n"
   ]
  },
  {
   "cell_type": "markdown",
   "metadata": {},
   "source": [
    "# Setting everything up\n"
   ]
  },
  {
   "cell_type": "markdown",
   "metadata": {},
   "source": [
    "## Firebase\n",
    "\n",
    "You can have up to three free projects on Google Firebase if you have a Google account, so you'll need one of those to get started. You'll also need a Hugo site ready to be deployed stored on GitHub. Once you've got those, run `npm install firebase-tools` so that you can interact with firebase, then when it's finished you can run `firebase login:ci` to get a token that you can use later. It should look something like this:\n",
    "```console\n",
    "❯ firebase login:ci\n",
    "\n",
    "Visit this URL on this device to log in:\n",
    "https://accounts.google.com/o/oauth2/auth?client_id=563584335869-fgrhgmd47bqnekij5i8b5pr03ho849e6.apps.googleusercontent.com&scope=email%20openid%20https%3A%2F%2Fwww.googleapis.com%2Fauth%2Fcloudplatformprojects.readonly%20https%3A%2F%2Fwww.googleapis.com%2Fauth%2Ffirebase%20https%3A%2F%2Fwww.googleapis.com%2Fauth%2Fcloud-platform&response_type=code&state=166870786&redirect_uri=http%3A%2F%2Flocalhost%3A9005\n",
    "\n",
    "Waiting for authentication...\n",
    "\n",
    "✔  Success! Use this token to login on a CI server:\n",
    "\n",
    "thisisyourtoken-dontmakeitpublic-aliu34jnmsdfndf-r2u3rhkwjdfn\n",
    "\n",
    "Example: firebase deploy --token \"$FIREBASE_TOKEN\"\n",
    "```\n",
    "\n",
    "Take that token and create a GitHub secret with it, I named mine `FIREBASE_TOKEN`, as will be seen when we get to the next part.\n",
    "\n",
    "In the root of your project directory run `firebase init` and do the following:\n",
    "1. Select the 'Hosting' option\n",
    "2. Choose the project we set up earlier\n",
    "3. Select default rules for database file\n",
    "4. Select hugo deploy directory (`public/` by default)\n",
    "5. Say 'No' to the single-app page question\n",
    "\n",
    "This should create a few firebase related files, then we're all set to set up the Actions."
   ]
  },
  {
   "cell_type": "markdown",
   "metadata": {},
   "source": [
    "### GitHub Actions\n",
    "\n",
    "GitHub Actions are pretty cool. GitLab and BitBucket have been the leading git platforms with fancy tools like testing and CI/CD built into it, but recently GitHub has released Actions to also have a stake in the game. The best thing about GitHub actions is that they're completely free (for up to 2000 build minutes per month) for public repositories.\n",
    "\n",
    "In the root of my repo, I have the directory `.github/workflows/` with one file in it, `deploy-hugo.yml`:\n"
   ]
  },
  {
   "cell_type": "markdown",
   "metadata": {},
   "source": [
    "```yaml\n",
    "name: Build & deploy\n",
    "\n",
    "on:\n",
    "  push:\n",
    "    branches: \n",
    "    - master\n",
    "\n",
    "jobs:\n",
    "  build:\n",
    "\n",
    "    runs-on: ubuntu-latest\n",
    "\n",
    "    steps:\n",
    "    - uses: actions/checkout@master\n",
    "      \n",
    "    - name: Get Hugo\n",
    "      uses: peaceiris/actions-hugo@v2.2.0\n",
    "      with:\n",
    "        hugo-version: 'latest'\n",
    "\n",
    "    - name: Build static files\n",
    "      run: hugo --gc --minify --cleanDestinationDir\n",
    "      \n",
    "    - name: Deploy to Firebase\n",
    "      uses: w9jds/firebase-action@master\n",
    "      with:\n",
    "        args: deploy --only hosting --project blog-neels-tech\n",
    "      env:\n",
    "        FIREBASE_TOKEN: ${{ secrets.FIREBASE_TOKEN }}\n",
    "```\n"
   ]
  },
  {
   "cell_type": "markdown",
   "metadata": {},
   "source": [
    "#### Let's break that down\n",
    "\n",
    "```yaml\n",
    "name: Build & deploy\n",
    "\n",
    "on:\n",
    "  push:\n",
    "    branches: \n",
    "    - master\n",
    "\n",
    "jobs:\n",
    "  build:\n",
    "\n",
    "    runs-on: ubuntu-latest\n",
    "```\n",
    "What the above does, is whenever there's a new push to master, a bunch of tasks will be run on a clean ubuntu container.\n",
    "\n",
    "```yaml\n",
    "    steps:\n",
    "    - uses: actions/checkout@master\n",
    "```\n",
    "Get the current repo's master branch using the `checkout` action.\n",
    "\n",
    "```yaml\n",
    "    - name: Get Hugo\n",
    "      uses: peaceiris/actions-hugo@v2.2.0\n",
    "      with:\n",
    "        hugo-version: 'latest'\n",
    "\n",
    "    - name: Build static files\n",
    "      run: hugo --gc --minify --cleanDestinationDir\n",
    "```\n",
    "Get the [Hugo Setup Action](https://github.com/peaceiris/actions-hugo) module and then use it to create the static files for hugo to serve, and finally,\n",
    "\n",
    "```yaml\n",
    "    - name: Deploy to Firebase\n",
    "      uses: w9jds/firebase-action@master\n",
    "      with:\n",
    "        args: deploy --only hosting --project blog-neels-tech\n",
    "      env:\n",
    "        FIREBASE_TOKEN: ${{ secrets.FIREBASE_TOKEN }}\n",
    "```\n",
    "Deploy to Firebase with the token we generated earlier.\n",
    "\n",
    "### In conclusion\n",
    "\n",
    "Whenever you want to create a new post, just run `hugo new posts/tech-stuff.md` and commit/push your changes when done, the rest will be handled for you :D\n"
   ]
  }
 ]
}