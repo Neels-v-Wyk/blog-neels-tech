{
 "metadata": {
  "language_info": {
   "codemirror_mode": {
    "name": "ipython",
    "version": 3
   },
   "file_extension": ".py",
   "mimetype": "text/x-python",
   "name": "python",
   "nbconvert_exporter": "python",
   "pygments_lexer": "ipython3",
   "version": "3.8.5-final"
  },
  "orig_nbformat": 2,
  "kernelspec": {
   "name": "python38564bit8748058bcf194d7ca7eae8413b257d26",
   "display_name": "Python 3.8.5 64-bit"
  }
 },
 "nbformat": 4,
 "nbformat_minor": 2,
 "cells": [
  {
   "cell_type": "markdown",
   "metadata": {},
   "source": [
    "# How I do Journaling\n",
    "> This article is about [jrnl.sh](https://jrnl.sh/) and how I use it in my day to day life.\n",
    "\n",
    "- toc: true \n",
    "- badges: true\n",
    "- comments: true\n",
    "- categories: [stuff, journaling, organization]\n",
    "- image: images/jrnl-logo.png\n",
    "\n"
   ]
  },
  {
   "cell_type": "markdown",
   "metadata": {},
   "source": [
    "# Why I journal\n",
    "\n",
    "There are a few reasons I journal, let me jot them down real quick and give a brief overview of each:\n",
    "- time tracking\n",
    "- thought organization\n",
    "- future reference to past problems\n",
    "- setting and getting to the goalpost\n",
    "- seeing progress made\n",
    "- venting\n"
   ]
  },
  {
   "cell_type": "markdown",
   "metadata": {},
   "source": [
    "## Time Tracking\n",
    "\n",
    "Currently, I'm working as a consultant. As such, time tracking is an *essential* part of my day to day activities, and while I don't like getting *too* granular, it does look good to be able to show what you've been up to for every few hours of the day. Journaling makes this quite easy as I often make notes regarding what I'm busy with, thus I can usually just use the heading and timestamp from a journal to keep track of what I've done during the day. This also helps a lot during standups."
   ]
  },
  {
   "cell_type": "markdown",
   "metadata": {},
   "source": [
    "## Thought Organization\n",
    "\n",
    "About to go out for lunch? Make some notes of what you're busy with. Knocking off? Write down what you're leaving for yourself to do tomorrow. Going for a walk? Don't lose the flow, freeze your thoughts in text. The sheer usefulness of being able to sit down and immediately remember what I was doing and thinking before I left is immense."
   ]
  },
  {
   "cell_type": "markdown",
   "metadata": {},
   "source": [
    "## Future reference to past problems\n",
    "\n",
    "Ever encounter an obscure problem, solve it, and then a few months down the line you have the same problem again? Just *wait* for the great feeling you get when the second time the problem shows up you've already got a solution at hand"
   ]
  },
  {
   "cell_type": "markdown",
   "metadata": {},
   "source": [
    "## Setting and getting to the goalpost\n",
    "\n",
    "I sometimes lose track of what I'm trying to achieve, and it helps to bring back my focus towards what I want to accomplish when I write down what I've been doing. Likewise, setting a goal makes sure I don't stray too far from where I want to go and prevents [yak shaving](https://en.wiktionary.org/wiki/yak_shaving)."
   ]
  },
  {
   "cell_type": "markdown",
   "metadata": {},
   "source": [
    "## Seeing progress made\n",
    "\n",
    "Sometimes after a long week of problem after problem, roadblocks and red tape, sweat and tears, staring at a long logbook of every challenge you've overcome since you started with something truly revitalizes the soul, and gives you a second wind."
   ]
  },
  {
   "cell_type": "markdown",
   "metadata": {},
   "source": [
    "## Venting\n",
    "\n",
    "Let's be honest, *everybody* likes to complain. Especially when someone else is agreeing with your complaints, and there's no one that agrees with me more than myself. I find that a quick two sentence complaint helps me rid myself of the weight of something bothering me. Weather is cold? Complain, dress warmer, and move on. Badly designed software getting to you? Complain, take a deep breath, and realize things like Citrix are a part of life."
   ]
  },
  {
   "cell_type": "markdown",
   "metadata": {},
   "source": [
    "# How I Journal\n",
    "\n",
    "Personally I like to use [jrnl.sh](https://jrnl.sh/). Let me walk you through how I use it.\n"
   ]
  },
  {
   "cell_type": "markdown",
   "metadata": {},
   "source": [
    "## For work\n",
    "When I want to write a journal entry regarding something work related, I do it using a \"work\" journal. I run `jrnl work` and up pops a vscode window with the following pre-made template:\n",
    "```txt\n",
    "\n",
    "\n",
    "BODY:\n",
    "\n",
    "NOTES:\n",
    "```\n",
    "\n",
    "This allows me to quickly pin an idea or talk about an issue. Here's an example of how I would fill it up:\n",
    "```txt\n",
    "Azure disks don't mount when instance is created\n",
    "\n",
    "BODY:\n",
    "@Azure is weird, and for some reason someone decided it would be a good design to not mount any virtual disks before an instance starts up, they are instead mounted after startup, resulting in <current project>'s bootstrap section to fail. I will have to implement a check to see when the device is mounted before the script can continue.\n",
    "\n",
    "NOTES:\n",
    "It might be a good idea to just attach the first LUN device since the disk will always be LUN0\n",
    "```\n",
    "looking at the latest entry:\n",
    "```txt\n",
    "❯ jrnl work -n 1\n",
    "2020-06-02 13:46 Azure disks don't mount when instance is created\n",
    "| BODY:\n",
    "| @Azure is weird, and for some reason someone decided it would be a good\n",
    "| design to not mount any virtual disks before an instance starts up, they are\n",
    "| instead mounted after startup, resulting in <current project>'s bootstrap\n",
    "| section to fail. I will have to implement a check to see when the device is\n",
    "| mounted before the script can continue.\n",
    "| \n",
    "| NOTES:\n",
    "| It might be a good idea to just attach the first LUN device since the disk\n",
    "| will always be LUN0\n",
    "```\n",
    "Similarly I can look for tags on things that were previously relevant:\n",
    "```txt\n",
    "❯ jrnl life @shrimp\n",
    "2020-06-02 13:51 Finally got the fishtank set up\n",
    "```\n",
    "\n",
    "Of course, just these text snippets don't deal it justice. It actually looks quite nice:\n",
    "![jrnl.png](https://raw.githubusercontent.com/Neels-v-Wyk/blog-neels-tech/master/images/jrnl.png)\n"
   ]
  },
  {
   "cell_type": "markdown",
   "metadata": {},
   "source": [
    "## For life\n",
    "\n",
    "Life journals are for every day random thoughts or ideas that I just want to not down, I don't use the template unless I find it necessary, and as such I can just use **jrnl** from the command line:\n",
    "```bash\n",
    "❯ jrnl life Starting on msngr. Ive started working on @msngr, it should end up being a project that syncs jrnl entries to @s3, possibly other cloud storage providers.\n",
    "[Entry added to life journal]\n",
    "\n",
    "❯ jrnl life -n 1\n",
    "❯ jrnl life -n 1\n",
    "2020-06-02 20:25 Starting on msngr.\n",
    "| Ive started working on @msngr, it should end up being a project that syncs\n",
    "| jrnl entries to @s3, possibly other cloud storage providers.\n",
    "\n",
    "```\n",
    "\n",
    "Neat, simple, and quick. Perfect for jotting down an idea that might escape you. For those curious, you can look at the progress of [msngr here](https://github.com/Neels-v-Wyk/msngr)\n"
   ]
  },
  {
   "cell_type": "markdown",
   "metadata": {},
   "source": [
    "## jrnl config\n",
    "\n",
    "Here is my `jrnl.yaml` configuration file:\n",
    "```yaml\n",
    "colors:\n",
    "  body: none\n",
    "  date: cyan\n",
    "  tags: yellow\n",
    "  title: blue\n",
    "default_hour: 9\n",
    "default_minute: 0\n",
    "editor: '/usr/bin/code --wait'\n",
    "encrypt: false\n",
    "highlight: true\n",
    "indent_character: '|'\n",
    "journals:\n",
    "  default: /home/neels/.local/share/jrnl/work.txt\n",
    "  work: /home/neels/.local/share/jrnl/work.txt\n",
    "  play: /home/neels/.local/share/jrnl/life.txt\n",
    "linewrap: 79\n",
    "tagsymbols: '@'\n",
    "template: '/home/neels/.local/share/jrnl/template.txt'\n",
    "timeformat: '%Y-%m-%d %H:%M'\n",
    "version: v2.4.2\n",
    "```\n",
    "\n",
    "Have fun journaling!\n"
   ]
  }
 ]
}
